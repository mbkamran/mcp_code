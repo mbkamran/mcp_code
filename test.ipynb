{
 "cells": [
  {
   "cell_type": "code",
   "execution_count": 47,
   "id": "06bcc3cb",
   "metadata": {},
   "outputs": [],
   "source": [
    "from typing import List, Union\n",
    "from langchain_ollama import ChatOllama\n",
    "from langchain_core.tools import tool\n",
    "\n",
    "@tool\n",
    "def add_user(name: str, num1: float, num2: float) -> List[Union[str, float]]:\n",
    "    \"\"\"\n",
    "    This function adds two numbers, num1 and num2 and then appends it with a list containing user name\n",
    "    Args:\n",
    "        name (str): Name of the user\n",
    "        num1 (float): First number\n",
    "        num2 (float): Second number\n",
    "\n",
    "    Returns:\n",
    "        out_list (List[str, float]): A list containing the user name and summed number\n",
    "    \"\"\"\n",
    "\n",
    "    sum_number = num1 + num2\n",
    "    out_list = [name, sum_number]\n",
    "\n",
    "    return out_list\n",
    "\n",
    "@tool\n",
    "def multiply_user(name: str, num1: float, num2: float) -> List[Union[str, float]]:\n",
    "    \"\"\"\n",
    "    This function multiplies two numbers, num1 and num2, and then returns a list\n",
    "    containing the user name and the resulting product.\n",
    "\n",
    "    Args:\n",
    "        name (str): Name of the user\n",
    "        num1 (float): First number\n",
    "        num2 (float): Second number\n",
    "\n",
    "    Returns:\n",
    "        out_list (List[Union[str, float]]): A list containing the user name and multiplied number\n",
    "    \"\"\"\n",
    "    product = num1 * num2\n",
    "    out_list = [name, product]\n",
    "    return out_list\n",
    "\n",
    "tools = [add_user, multiply_user]\n",
    "model = ChatOllama(model=\"llama3.2:3b\", temperature=0).bind_tools(tools)"
   ]
  },
  {
   "cell_type": "code",
   "execution_count": 48,
   "id": "ff4e3560",
   "metadata": {},
   "outputs": [],
   "source": [
    "answer = model.invoke(\n",
    "    \"The user name is MBK and add the two numbers 10 and 12\"\n",
    ")"
   ]
  },
  {
   "cell_type": "code",
   "execution_count": 49,
   "id": "38983b0f",
   "metadata": {},
   "outputs": [
    {
     "data": {
      "text/plain": [
       "'622a444d-76c1-45c9-9c49-7c3e9c17c685'"
      ]
     },
     "execution_count": 49,
     "metadata": {},
     "output_type": "execute_result"
    }
   ],
   "source": [
    "answer.tool_calls[0][\"id\"]"
   ]
  },
  {
   "cell_type": "code",
   "execution_count": 50,
   "id": "983980f6",
   "metadata": {},
   "outputs": [],
   "source": [
    "answer = model.invoke(\n",
    "    \"The user name is Ted and multiply the two numbers 10 and 12\"\n",
    ")"
   ]
  },
  {
   "cell_type": "code",
   "execution_count": 51,
   "id": "42b70cb5",
   "metadata": {},
   "outputs": [
    {
     "data": {
      "text/plain": [
       "[{'name': 'multiply_user',\n",
       "  'args': {'name': 'Ted', 'num1': 10, 'num2': 12},\n",
       "  'id': '82911d66-06b5-4211-9a9c-e44514ca77aa',\n",
       "  'type': 'tool_call'}]"
      ]
     },
     "execution_count": 51,
     "metadata": {},
     "output_type": "execute_result"
    }
   ],
   "source": [
    "answer.tool_calls"
   ]
  },
  {
   "cell_type": "code",
   "execution_count": null,
   "id": "f928760f",
   "metadata": {},
   "outputs": [
    {
     "data": {
      "text/plain": [
       "[{'name': 'multiply_user',\n",
       "  'args': {'name': 'Hellooo', 'num1': None, 'num2': None},\n",
       "  'id': 'ee1ea703-aaf8-4373-bd97-008e98562176',\n",
       "  'type': 'tool_call'}]"
      ]
     },
     "execution_count": 34,
     "metadata": {},
     "output_type": "execute_result"
    }
   ],
   "source": [
    "answer = model.invoke(\n",
    "    [\n",
    "        {\n",
    "            \"role\": \"system\",\n",
    "            \"content\": \"\"\"\n",
    "You are a helpful bot who decides if you have to just answer the user or run tools based on the tools information given to you.\n",
    "You must judge based on the description of the tools and the user input.\n",
    "If the user is attempting to run a tool or give parameters that don't exist, politely apologize and tell user this request cant be completed\n",
    "\"\"\"\n",
    "        },\n",
    "        {\n",
    "            \"role\": \"user\",\n",
    "            \"content\": \"Hellooo\"\n",
    "        }\n",
    "    ]\n",
    ")"
   ]
  },
  {
   "cell_type": "code",
   "execution_count": null,
   "id": "4ab395fe",
   "metadata": {},
   "outputs": [
    {
     "data": {
      "text/plain": [
       "AIMessage(content='', additional_kwargs={}, response_metadata={'model': 'llama3.2:3b', 'created_at': '2025-07-02T21:48:26.453369662Z', 'done': True, 'done_reason': 'stop', 'total_duration': 5933120416, 'load_duration': 20796851, 'prompt_eval_count': 471, 'prompt_eval_duration': 3535874976, 'eval_count': 30, 'eval_duration': 2364656586, 'model_name': 'llama3.2:3b'}, id='run--00f81ac6-925a-474a-b770-9e518293508e-0', tool_calls=[{'name': 'multiply_user', 'args': {'name': 'Hellooo', 'num1': None, 'num2': None}, 'id': 'ee1ea703-aaf8-4373-bd97-008e98562176', 'type': 'tool_call'}], usage_metadata={'input_tokens': 471, 'output_tokens': 30, 'total_tokens': 501})"
      ]
     },
     "execution_count": 35,
     "metadata": {},
     "output_type": "execute_result"
    }
   ],
   "source": []
  },
  {
   "cell_type": "code",
   "execution_count": 57,
   "id": "357a4bce",
   "metadata": {},
   "outputs": [],
   "source": [
    "import arxiv\n",
    "\n",
    "# Construct the default API client.\n",
    "client = arxiv.Client()\n",
    "\n",
    "# Search for the 10 most recent articles matching the keyword \"quantum.\"\n",
    "search = arxiv.Search(\n",
    "  query = \"quantum\",\n",
    "  max_results = 5,\n",
    "  sort_by = arxiv.SortCriterion.SubmittedDate\n",
    ")\n",
    "\n",
    "results = client.results(search)"
   ]
  },
  {
   "cell_type": "code",
   "execution_count": 56,
   "id": "ad77246a",
   "metadata": {},
   "outputs": [],
   "source": [
    "for result in list(results):\n",
    "    result.download_pdf(dirpath=\"papers\", filename=f\"{result.title}.pdf\")"
   ]
  },
  {
   "cell_type": "code",
   "execution_count": 58,
   "id": "c67e47be",
   "metadata": {},
   "outputs": [
    {
     "data": {
      "text/plain": [
       "[arxiv.Result(entry_id='http://arxiv.org/abs/2506.24115v1', updated=datetime.datetime(2025, 6, 30, 17, 57, 2, tzinfo=datetime.timezone.utc), published=datetime.datetime(2025, 6, 30, 17, 57, 2, tzinfo=datetime.timezone.utc), title='Nonlinear Symmetry-Fragmentation of Nonabelian Anyons In Symmetry-Enriched Topological Phases: A String-Net Model Realization', authors=[arxiv.Result.Author('Nianrui Fu'), arxiv.Result.Author('Siyuan Wang'), arxiv.Result.Author('Yu Zhao'), arxiv.Result.Author('Yidun Wan')], summary='Symmetry-enriched topological (SET) phases combine intrinsic topological\\norder with global symmetries, giving rise to novel symmetry phenomena. While\\nSET phases with Abelian anyons are relatively well understood, those involving\\nnon-Abelian anyons remain elusive. This obscurity stems from the\\nmulti-dimensional internal gauge spaces intrinsic to non-Abelian anyons -- a\\nfeature first made explicit in [1,2] and further explored and formalized in our\\nrecent works [3-8]. These internal spaces can transform in highly nontrivial\\nways under global symmetries. In this work, we employ an exactly solvable model\\n-- the multifusion Hu-Geer-Wu string-net model introduced in a companion paper\\n[9] -- to reveal how the internal gauge spaces of non-Abelian anyons transform\\nunder symmetries. We uncover a universal mechanism, global symmetry\\nfragmentation (GSF), whereby symmetry-invariant anyons exhibit internal Hilbert\\nspace decompositions into eigensubspaces labeled by generally fractional\\nsymmetry charges. Meanwhile, symmetry-permuted anyons hybridize and fragment\\ntheir internal spaces in accordance with their symmetry behavior. These\\nfragmented structures realize genuinely nonlinear symmetry representations --\\nto be termed coherent representations -- that transcend conventional linear and\\nprojective classifications, reflecting the categorical nature of symmetries in\\ntopological phases. Our results identify nonlinear fragmentation as a hallmark\\nof non-Abelian SETs and suggest new routes for symmetry-enabled control in\\ntopological quantum computation.', comment='12+21 pages', journal_ref=None, doi=None, primary_category='cond-mat.str-el', categories=['cond-mat.str-el', 'cond-mat.stat-mech', 'hep-th', 'math-ph', 'math.MP'], links=[arxiv.Result.Link('http://arxiv.org/abs/2506.24115v1', title=None, rel='alternate', content_type=None), arxiv.Result.Link('http://arxiv.org/pdf/2506.24115v1', title='pdf', rel='related', content_type=None)]),\n",
       " arxiv.Result(entry_id='http://arxiv.org/abs/2506.24112v1', updated=datetime.datetime(2025, 6, 30, 17, 56, 7, tzinfo=datetime.timezone.utc), published=datetime.datetime(2025, 6, 30, 17, 56, 7, tzinfo=datetime.timezone.utc), title='Singular value transformation for unknown quantum channels', authors=[arxiv.Result.Author('Ryotaro Niwa'), arxiv.Result.Author('Zane Marius Rossi'), arxiv.Result.Author('Philip Taranto'), arxiv.Result.Author('Mio Murao')], summary=\"Given the ability to apply an unknown quantum channel acting on a\\n$d$-dimensional system, we develop a quantum algorithm for transforming its\\nsingular values. The spectrum of a quantum channel as a superoperator is\\nnaturally tied to its Liouville representation, which is in general\\nnon-Hermitian. Our key contribution is an approximate block-encoding scheme for\\nthis representation in a Hermitized form, given only black-box access to the\\nchannel; this immediately allows us to apply polynomial transformations to the\\nchannel's singular values by quantum singular value transformation (QSVT). We\\nthen demonstrate an $O(d^2/\\\\delta)$ upper bound and an $\\\\Omega(d/\\\\delta)$ lower\\nbound for the query complexity of constructing a quantum channel that is\\n$\\\\delta$-close in diamond norm to a block-encoding of the Hermitized Liouville\\nrepresentation. We show our method applies practically to the problem of\\nlearning the $q$-th singular value moments of unknown quantum channels for\\narbitrary $q>2, q\\\\in \\\\mathbb{R}$, which has implications for testing if a\\nquantum channel is entanglement breaking.\", comment='5+14 pages, 6 figures', journal_ref=None, doi=None, primary_category='quant-ph', categories=['quant-ph'], links=[arxiv.Result.Link('http://arxiv.org/abs/2506.24112v1', title=None, rel='alternate', content_type=None), arxiv.Result.Link('http://arxiv.org/pdf/2506.24112v1', title='pdf', rel='related', content_type=None)]),\n",
       " arxiv.Result(entry_id='http://arxiv.org/abs/2506.24109v1', updated=datetime.datetime(2025, 6, 30, 17, 55, 20, tzinfo=datetime.timezone.utc), published=datetime.datetime(2025, 6, 30, 17, 55, 20, tzinfo=datetime.timezone.utc), title='Multi-Target Density Matrix Renormalization Group X algorithm and its application to circuit quantum electrodynamics', authors=[arxiv.Result.Author('Sofía González-García'), arxiv.Result.Author('Aaron Szasz'), arxiv.Result.Author('Alice Pagano'), arxiv.Result.Author('Dvir Kafri'), arxiv.Result.Author('Guifré Vidal'), arxiv.Result.Author('Agustin Di Paolo')], summary='Obtaining accurate representations of the eigenstates of an array of coupled\\nsuperconducting qubits is a crucial step in the design of circuit quantum\\nelectrodynamics (QED)-based quantum processors. However, exact diagonalization\\nof the device Hamiltonian is challenging for system sizes beyond tens of\\nqubits. Here, we employ a variant of the density matrix renormalization group\\n(DMRG) algorithm, DMRG-X, to efficiently obtain localized eigenstates of a 2D\\ntransmon array without the need to first compute lower-energy states. We also\\nintroduce MTDMRG-X, a new algorithm that combines DMRG-X with multi-target DMRG\\nto efficiently compute excited states even in regimes with strong eigenstate\\nhybridization. We showcase the use of these methods for the analysis of\\nlong-range couplings in a multi-transmon Hamiltonian including qubits and\\ncouplers, and we discuss eigenstate localization. These developments facilitate\\nthe design and parameter optimization of large-scale superconducting quantum\\nprocessors.', comment=None, journal_ref=None, doi=None, primary_category='quant-ph', categories=['quant-ph'], links=[arxiv.Result.Link('http://arxiv.org/abs/2506.24109v1', title=None, rel='alternate', content_type=None), arxiv.Result.Link('http://arxiv.org/pdf/2506.24109v1', title='pdf', rel='related', content_type=None)]),\n",
       " arxiv.Result(entry_id='http://arxiv.org/abs/2506.24097v1', updated=datetime.datetime(2025, 6, 30, 17, 49, 16, tzinfo=datetime.timezone.utc), published=datetime.datetime(2025, 6, 30, 17, 49, 16, tzinfo=datetime.timezone.utc), title='Ruelle-Pollicott resonances of diffusive U(1)-invariant qubit circuits', authors=[arxiv.Result.Author('Urban Duh'), arxiv.Result.Author('Marko Žnidarič')], summary='We study Ruelle-Pollicott resonances of translationally invariant\\nmagnetization-conserving qubit circuits via the spectrum of the\\nquasi-momentum-resolved truncated propagator of extensive observables.\\nDiffusive transport of the conserved magnetization is reflected in the Gaussian\\nquasi-momentum $k$ dependence of the leading eigenvalue (Ruelle-Pollicott\\nresonance) of the truncated propagator for small $k$. This, in particular,\\nallows us to extract the diffusion constant. For large $k$, the leading\\nRuelle-Pollicott resonance is not related to transport and governs the\\nexponential decay of correlation functions. Additionally, we conjecture the\\nexistence of a continuum of eigenvalues below the leading diffusive resonance,\\nwhich governs non-exponential decay, for instance, power-law hydrodynamic\\ntails. We expect our conclusions to hold for generic systems with exactly one\\nU(1) conserved quantity.', comment='14 + 6 pages, 12 figures', journal_ref=None, doi=None, primary_category='cond-mat.stat-mech', categories=['cond-mat.stat-mech', 'nlin.CD', 'quant-ph'], links=[arxiv.Result.Link('http://arxiv.org/abs/2506.24097v1', title=None, rel='alternate', content_type=None), arxiv.Result.Link('http://arxiv.org/pdf/2506.24097v1', title='pdf', rel='related', content_type=None)]),\n",
       " arxiv.Result(entry_id='http://arxiv.org/abs/2506.24090v1', updated=datetime.datetime(2025, 6, 30, 17, 45, 37, tzinfo=datetime.timezone.utc), published=datetime.datetime(2025, 6, 30, 17, 45, 37, tzinfo=datetime.timezone.utc), title='State Change via One-Dimensional Scattering in Quantum Mechanics', authors=[arxiv.Result.Author('Olivia Pomerenk'), arxiv.Result.Author('Charles S. Peskin')], summary='We consider a pair of particles that interact in a one-dimensional setting\\nvia a delta-function potential. One of the particles is confined to a\\none-dimensional box, and the other particle is free. The free particle is\\nincident from the left with specified energy, and it may cause changes in state\\nof the confined particle before flying away to the left or to the right. We\\npresent a non-perturbative formulation and computational scheme that determines\\nthe probability of any such outcome, as a function of the initial state of the\\nconfined particle and the energy of the incident particle.', comment='17 pages, 7 figures', journal_ref=None, doi=None, primary_category='quant-ph', categories=['quant-ph'], links=[arxiv.Result.Link('http://arxiv.org/abs/2506.24090v1', title=None, rel='alternate', content_type=None), arxiv.Result.Link('http://arxiv.org/pdf/2506.24090v1', title='pdf', rel='related', content_type=None)])]"
      ]
     },
     "execution_count": 58,
     "metadata": {},
     "output_type": "execute_result"
    }
   ],
   "source": [
    "list(results)"
   ]
  },
  {
   "cell_type": "code",
   "execution_count": 63,
   "id": "0318d59c",
   "metadata": {},
   "outputs": [],
   "source": [
    "papers = [\n",
    "    {\n",
    "        \"name\": \"Hassan\",\n",
    "        \"desgination\": \"mega\"\n",
    "    }\n",
    "]"
   ]
  },
  {
   "cell_type": "code",
   "execution_count": 64,
   "id": "17597ce0",
   "metadata": {},
   "outputs": [],
   "source": [
    "import json\n",
    "\n",
    "with open(\"test.json\", \"a\") as f:\n",
    "    json.dump(papers, f, indent=2)"
   ]
  },
  {
   "cell_type": "code",
   "execution_count": 63,
   "id": "e80c0048",
   "metadata": {},
   "outputs": [],
   "source": [
    "import os\n",
    "import arxiv\n",
    "import json\n",
    "\n",
    "INFO_DIR = \"papers_info\"\n",
    "DOWNLOAD_DIR = \"papers\"\n",
    "PAPER_INFO_JSON = \"papers_info.json\"\n",
    "\n",
    "client = arxiv.Client()\n",
    "search = arxiv.Search(\n",
    "    query=\"3D bounding box in self driving cars\",\n",
    "    max_results=2,\n",
    "    sort_by=arxiv.SortCriterion.Relevance\n",
    ")\n",
    "results = client.results(search)\n",
    "\n",
    "try:\n",
    "    with open(os.path.join(INFO_DIR, PAPER_INFO_JSON), \"r\") as json_file:\n",
    "        papers_info = json.load(json_file)\n",
    "except (FileNotFoundError, json.JSONDecodeError):\n",
    "    papers_info = {}\n",
    "\n",
    "paper_ids = []\n",
    "for result in list(results):\n",
    "    result.download_pdf(dirpath=DOWNLOAD_DIR, filename=f\"{result.title}.pdf\")\n",
    "    paper_ids.append(result.get_short_id())\n",
    "\n",
    "    paper_info = {\n",
    "        \"title\": result.title,\n",
    "        \"short_id\": result.get_short_id(),\n",
    "        \"published\": result.published,\n",
    "        \"authors\": [author.name for author in result.authors]\n",
    "\n",
    "    }\n",
    "\n",
    "    papers_info[result.get_short_id()] = paper_info\n"
   ]
  },
  {
   "cell_type": "code",
   "execution_count": 43,
   "id": "b13787ce",
   "metadata": {},
   "outputs": [
    {
     "data": {
      "text/plain": [
       "\"['2108.03300v1', '2312.00588v2']\""
      ]
     },
     "execution_count": 43,
     "metadata": {},
     "output_type": "execute_result"
    }
   ],
   "source": [
    "str(paper_ids)"
   ]
  },
  {
   "cell_type": "code",
   "execution_count": 61,
   "id": "0657ca91",
   "metadata": {},
   "outputs": [],
   "source": [
    "from langchain_ollama import ChatOllama\n",
    "\n",
    "model = ChatOllama(model=\"llama3.2:3b\", temperature=0)\n",
    "\n",
    "response = model.invoke(\n",
    "[\n",
    "    {\n",
    "\"role\": \"system\",\n",
    "\"content\": \"\"\"\n",
    "You are a helpful bot whose task is give a natural language response to user based on output from the tool call and user question.\n",
    "The tool output will either be a list of ids for research paper or information about research papers.\n",
    "In both cases, you just need to rephrase user question and output Tool Call results.\n",
    "You must not output anything else apart from rephrasing user question and outputing tool call results.\n",
    "\n",
    "\n",
    "Tool call result:\n",
    "{\n",
    "  \"2108.03300v1\": {\n",
    "    \"title\": \"Medical image segmentation with imperfect 3D bounding boxes\",\n",
    "    \"short_id\": \"2108.03300v1\",\n",
    "    \"published\": \"2021-08-06 20:51:20+00:00\",\n",
    "    \"authors\": [\n",
    "      \"Ekaterina Redekop\",\n",
    "      \"Alexey Chernyavskiy\"\n",
    "    ]\n",
    "}\n",
    "\"\"\"\n",
    "    },\n",
    "    {\n",
    "        \"role\": \"user\",\n",
    "        \"content\": \"Can you find me information about paper 2108.03300v1\"\n",
    "    }\n",
    "    ]\n",
    ")"
   ]
  },
  {
   "cell_type": "code",
   "execution_count": 62,
   "id": "6dbaaaf8",
   "metadata": {},
   "outputs": [
    {
     "data": {
      "text/plain": [
       "'You\\'re looking for information about the research paper with the ID 2108.03300v1. \\n\\n{\\n  \"title\": \"Medical image segmentation with imperfect 3D bounding boxes\",\\n  \"short_id\": \"2108.03300v1\",\\n  \"published\": \"2021-08-06 20:51:20+00:00\",\\n  \"authors\": [\\n    \"Ekaterina Redekop\",\\n    \"Alexey Chernyavskiy\"\\n  ]\\n}'"
      ]
     },
     "execution_count": 62,
     "metadata": {},
     "output_type": "execute_result"
    }
   ],
   "source": [
    "response.content"
   ]
  },
  {
   "cell_type": "code",
   "execution_count": 85,
   "id": "8b3b3130",
   "metadata": {},
   "outputs": [],
   "source": [
    "with open(\"temp.json\", \"w\") as f:\n",
    "    json.dump(papers_info, f, indent=2, default=str)"
   ]
  },
  {
   "cell_type": "code",
   "execution_count": 86,
   "id": "5451a565",
   "metadata": {},
   "outputs": [
    {
     "data": {
      "text/plain": [
       "{'2108.03300v1': {'title': 'Medical image segmentation with imperfect 3D bounding boxes',\n",
       "  'short_id': '2108.03300v1',\n",
       "  'published': '2021-08-06 20:51:20+00:00',\n",
       "  'authors': ['Ekaterina Redekop', 'Alexey Chernyavskiy']},\n",
       " '2312.00588v2': {'title': 'LucidDreaming: Controllable Object-Centric 3D Generation',\n",
       "  'short_id': '2312.00588v2',\n",
       "  'published': '2023-11-30 18:55:23+00:00',\n",
       "  'authors': ['Zhaoning Wang', 'Ming Li', 'Chen Chen']}}"
      ]
     },
     "execution_count": 86,
     "metadata": {},
     "output_type": "execute_result"
    }
   ],
   "source": [
    "with open(\"temp.json\", \"r\") as f:\n",
    "    papers_info = json.load(f)\n",
    "\n",
    "papers_info"
   ]
  },
  {
   "cell_type": "code",
   "execution_count": null,
   "id": "4ffb13da",
   "metadata": {},
   "outputs": [
    {
     "ename": "TypeError",
     "evalue": "dump() missing 1 required positional argument: 'fp'",
     "output_type": "error",
     "traceback": [
      "\u001b[0;31m---------------------------------------------------------------------------\u001b[0m",
      "\u001b[0;31mTypeError\u001b[0m                                 Traceback (most recent call last)",
      "Cell \u001b[0;32mIn[88], line 1\u001b[0m\n\u001b[0;32m----> 1\u001b[0m \u001b[43mjson\u001b[49m\u001b[38;5;241;43m.\u001b[39;49m\u001b[43mdump\u001b[49m\u001b[43m(\u001b[49m\u001b[43mpapers_info\u001b[49m\u001b[43m[\u001b[49m\u001b[38;5;124;43m'\u001b[39;49m\u001b[38;5;124;43m2108.03300v1\u001b[39;49m\u001b[38;5;124;43m'\u001b[39;49m\u001b[43m]\u001b[49m\u001b[43m,\u001b[49m\u001b[43m \u001b[49m\u001b[43mindent\u001b[49m\u001b[38;5;241;43m=\u001b[39;49m\u001b[38;5;241;43m2\u001b[39;49m\u001b[43m)\u001b[49m\n",
      "\u001b[0;31mTypeError\u001b[0m: dump() missing 1 required positional argument: 'fp'"
     ]
    }
   ],
   "source": [
    "json.dumps(papers_info['2108.03300v1'], indent=2)"
   ]
  },
  {
   "cell_type": "code",
   "execution_count": null,
   "id": "90090740",
   "metadata": {},
   "outputs": [
    {
     "data": {
      "text/plain": [
       "ChatPromptTemplate(input_variables=['user_input'], input_types={}, partial_variables={}, messages=[SystemMessagePromptTemplate(prompt=PromptTemplate(input_variables=[], input_types={}, partial_variables={}, template=\"You are a friendly and helpul bot whose task is to create a search term for searching research paper on internet based on user's description of what he/she wants to search about. You must only return one sentence of search term as per the SearchQuery function\"), additional_kwargs={}), HumanMessagePromptTemplate(prompt=PromptTemplate(input_variables=['user_input'], input_types={}, partial_variables={}, template='{user_input}'), additional_kwargs={})])"
      ]
     },
     "execution_count": 4,
     "metadata": {},
     "output_type": "execute_result"
    }
   ],
   "source": [
    "from langchain_core.prompts import ChatPromptTemplate\n",
    "\n",
    "prompt = ChatPromptTemplate.from_messages(\n",
    "        [(\"system\", \"You are a friendly and helpul bot whose task is to create a search term for searching research paper on internet based on user's description of what he/she wants to search about. You must only return one sentence of search term as per the SearchQuery function\"),\n",
    "        (\"user\", \"{user_input}\")]\n",
    ")\n",
    "prompt\n",
    "\n"
   ]
  },
  {
   "cell_type": "code",
   "execution_count": 6,
   "id": "f7a2ba7c",
   "metadata": {},
   "outputs": [
    {
     "data": {
      "text/plain": [
       "SearchQuery(search_query='3D bounding box in autonomous driving papers arXiv')"
      ]
     },
     "execution_count": 6,
     "metadata": {},
     "output_type": "execute_result"
    }
   ],
   "source": [
    "from pydantic import BaseModel, Field\n",
    "from langchain_ollama import ChatOllama\n",
    "from langchain_core.prompts import ChatPromptTemplate\n",
    "\n",
    "class SearchQuery(BaseModel):\n",
    "    search_query: str = Field(description=\"A single search query which will be used to search for research papers based on user's input\")\n",
    "\n",
    "prompt = ChatPromptTemplate.from_messages(\n",
    "    [\n",
    "        (\"system\", \"You are a friendly and helpul bot whose task is to create a search term for searching research paper on arXiv which hosts multiple research papers, based on user's description of what he/she wants to search about. You must only return one sentence of search term as per the SearchQuery function.\"),\n",
    "        (\"user\", \"{user_input}\")\n",
    "    ]\n",
    ")\n",
    "\n",
    "model_with_structured_output = ChatOllama(model=\"llama3.2:1b\", temperature=0).with_structured_output(SearchQuery)\n",
    "model_chain = prompt | model_with_structured_output\n",
    "\n",
    "model_chain.invoke(\n",
    "    {\n",
    "        \"user_input\": \"I want to find a research paper that talks about the how autonomous driving cars make use of 3D bounding box, in short something about 3D bounding boxes\"\n",
    "    }\n",
    ")"
   ]
  },
  {
   "cell_type": "code",
   "execution_count": 13,
   "id": "c668fe8c",
   "metadata": {},
   "outputs": [],
   "source": [
    "from typing import Optional\n",
    "from pydantic import BaseModel, Field\n",
    "from langchain_ollama import ChatOllama\n",
    "from langchain_core.prompts import ChatPromptTemplate\n",
    "\n",
    "class SearchQuery(BaseModel):\n",
    "    query_term: str = Field(description=\"A single search query which will be used to search for research papers based on user's input, could contain id also\")\n",
    "\n",
    "model_with_structured_output = ChatOllama(model=\"llama3.2:3b\", temperature=0).with_structured_output(SearchQuery)\n",
    "\n",
    "response = model_with_structured_output.invoke(\n",
    "    [\n",
    "        {\n",
    "            \"role\": \"system\",\n",
    "            \"content\": \"\"\"\n",
    "You are a helpful bot, whose task is to create a natural language search term for searching research paper for user.\n",
    "If the user mentions description of research paper, understand the description and based on that, output a single sentence search term.\n",
    "If the user asks to search paper based on id, you must EXPLICITLY tell in natural language form to search on that id, YOU MUST NOT OUTPUT ID ALONE!\n",
    "\n",
    "For example:\n",
    "user: Can you help me get papers that are published for knee othroscopy\n",
    "bot: Knee othroscopy papers\n",
    "\n",
    "user: Can you find paper with id abc123\n",
    "bot: Search paper with id abc123\n",
    "\"\"\"\n",
    "        },\n",
    "        {\n",
    "            \"role\": \"user\",\n",
    "            \"content\": \"Can you find research papers in which people have written about 3D bounding box detection used in autonomous self driving cars?\"\n",
    "        }\n",
    "    ]\n",
    ")"
   ]
  },
  {
   "cell_type": "code",
   "execution_count": 14,
   "id": "9ab56bac",
   "metadata": {},
   "outputs": [
    {
     "data": {
      "text/plain": [
       "SearchQuery(query_term='3D bounding box detection in autonomous self-driving cars')"
      ]
     },
     "execution_count": 14,
     "metadata": {},
     "output_type": "execute_result"
    }
   ],
   "source": [
    "response"
   ]
  },
  {
   "cell_type": "code",
   "execution_count": 32,
   "id": "4ba57fbe",
   "metadata": {},
   "outputs": [],
   "source": [
    "response.search_query"
   ]
  },
  {
   "cell_type": "code",
   "execution_count": null,
   "id": "f164a654",
   "metadata": {},
   "outputs": [],
   "source": []
  }
 ],
 "metadata": {
  "kernelspec": {
   "display_name": "PITB_env",
   "language": "python",
   "name": "python3"
  },
  "language_info": {
   "codemirror_mode": {
    "name": "ipython",
    "version": 3
   },
   "file_extension": ".py",
   "mimetype": "text/x-python",
   "name": "python",
   "nbconvert_exporter": "python",
   "pygments_lexer": "ipython3",
   "version": "3.10.16"
  }
 },
 "nbformat": 4,
 "nbformat_minor": 5
}
